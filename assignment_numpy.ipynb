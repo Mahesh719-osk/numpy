{
 "cells": [
  {
   "cell_type": "code",
   "execution_count": null,
   "id": "1640df87-3739-4060-9cfd-1f7bf242ec4a",
   "metadata": {},
   "outputs": [],
   "source": [
    "# Q1. Explain the purpose and advantages of NumPy in scientific computing and data analysis. How does it enhance Python's capabilities for numerical operations?\n",
    "\n",
    "# Purpose of NumPy:\n",
    "#1.Efficient Data Storage and Computation: NumPy allows the creation of arrays that are more efficient in terms of memory and performance than traditional Python lists. Its arrays are homogeneous (contain elements of the same type), which reduces overhead and enables faster processing.\n",
    "#2.Support for Multi-dimensional Arrays: NumPy supports n-dimensional arrays (ndarray), making it easy to handle complex datasets like matrices, images, or higher-dimensional data, which are essential in scientific computing.\n",
    "#3.Optimized Numerical Computation: It includes a vast array of optimized functions for performing mathematical operations like linear algebra, Fourier transforms, statistical operations, and random number generation, making it essential for numerical tasks.\n",
    "#4.Interoperability with Other Libraries: Many scientific libraries in Python, such as Pandas, SciPy, Matplotlib, and TensorFlow, are built on top of or integrate closely with NumPy. This makes it a core component in the Python ecosystem for numerical and scientific computing.\n",
    "\n",
    "# Advantage of numpy :\n",
    "# 1.High Performance: Faster computations compared to Python lists due to efficient memory usage and C-based implementation.\n",
    "#2.Memory Efficiency: Arrays store data more compactly than lists.\n",
    "#3.Vectorization: Allows element-wise operations without loops, enhancing speed and simplicity.\n",
    "#4.Broadcasting: Enables operations on arrays of different shapes without manual reshaping.\n",
    "#5.Extensive Mathematical Functions: Provides built-in support for complex mathematical and statistical operations.\n",
    "#6.Interoperability: Works seamlessly with other scientific libraries like Pandas, SciPy, and TensorFlow.\n",
    "\n",
    "# NumPy enhances Python's capabilities for scientific computing and data analysis by providing efficient array handling,\n",
    "#performance optimizations, a rich set of mathematical tools, and the ability to interface with lower-level languages for speed and efficiency."
   ]
  },
  {
   "cell_type": "code",
   "execution_count": 2,
   "id": "9c542c5c-a163-4e50-860c-1267f849516d",
   "metadata": {},
   "outputs": [
    {
     "data": {
      "text/plain": [
       "2.5"
      ]
     },
     "execution_count": 2,
     "metadata": {},
     "output_type": "execute_result"
    }
   ],
   "source": [
    "# Q2. Compare and contrast np.mean() and np.average() functions in NumPy. When would you use one over the other?\n",
    "\n",
    "# In NumPy, both np.mean() and np.average() calculate the average of array elements,\n",
    "#but they have some differences in functionality and use cases.\n",
    "\n",
    "# np.mean() :\n",
    "# Purpose: Calculates the simple arithmetic mean (average) of array elements.\n",
    "# Syntax: np.mean(array, axis=None)\n",
    "# Weights: Does not support weighting; each element contributes equally to the mean.\n",
    "# Use Case: Use when you want a straightforward, unweighted average of all elements.\n",
    "\n",
    "# Example:\n",
    "import numpy as np\n",
    "a = np.array([1, 2, 3, 4])\n",
    "np.mean(a) \n"
   ]
  },
  {
   "cell_type": "code",
   "execution_count": 4,
   "id": "0a755b46-66e8-4a48-8ff7-c5dd808298f6",
   "metadata": {},
   "outputs": [
    {
     "data": {
      "text/plain": [
       "3.0"
      ]
     },
     "execution_count": 4,
     "metadata": {},
     "output_type": "execute_result"
    }
   ],
   "source": [
    "# np.average()\n",
    "# Purpose: Calculates a weighted average, where each element can contribute differently based on its weight.\n",
    "# Syntax: np.average(array, weights=None, axis=None)\n",
    "# weights: Supports weighting via the weights parameter. If weights are provided, elements are multiplied by their respective weights before calculating the average.\n",
    "# Use Case: Use when you need to compute a weighted average, where some elements are more significant than others.\n",
    "# Example:\n",
    "a = np.array([1, 2, 3, 4])\n",
    "weights = np.array([1, 2, 3, 4])\n",
    "np.average(a, weights=weights) \n"
   ]
  },
  {
   "cell_type": "code",
   "execution_count": null,
   "id": "639438e8-3342-4942-897d-4108a15991ca",
   "metadata": {},
   "outputs": [],
   "source": [
    "# When to Use One Over the Other:\n",
    "# Use np.mean() when you want a simple, unweighted average.\n",
    "# Use np.average() when you need to compute a weighted average, giving different importance to elements based on their weights.\n",
    "# If no weights are specified, np.average() behaves like np.mean()."
   ]
  },
  {
   "cell_type": "code",
   "execution_count": 6,
   "id": "0192b4bb-a341-4be2-9254-a945f1292a35",
   "metadata": {},
   "outputs": [
    {
     "name": "stdout",
     "output_type": "stream",
     "text": [
      "[5 4 3 2 1]\n"
     ]
    }
   ],
   "source": [
    "# Q3. Describe the methods for reversing a NumPy array along different axes. Provide examples for 1D and 2D arrays.\n",
    "\n",
    "# the methods to reverse arrays in different dimensions:\n",
    "# 1. Using Slicing ([::-1])\n",
    "# Slicing allows reversing the array by specifying the step as -1. This works for both 1D and multi-dimensional arrays.\n",
    "\n",
    "# 1D example\n",
    "import numpy as np\n",
    "a = np.array([1, 2, 3, 4, 5])\n",
    "reversed_a = a[::-1]\n",
    "print(reversed_a)  \n"
   ]
  },
  {
   "cell_type": "code",
   "execution_count": 8,
   "id": "b375938a-79e2-4838-b197-309adb81474e",
   "metadata": {},
   "outputs": [
    {
     "name": "stdout",
     "output_type": "stream",
     "text": [
      "[[7 8 9]\n",
      " [4 5 6]\n",
      " [1 2 3]]\n"
     ]
    }
   ],
   "source": [
    "# 2D Example (reverse row)\n",
    "a = np.array([[1, 2, 3], [4, 5, 6], [7, 8, 9]])\n",
    "reversed_rows = a[::-1]\n",
    "print(reversed_rows)\n",
    "\n",
    "\n"
   ]
  },
  {
   "cell_type": "code",
   "execution_count": 12,
   "id": "f528adca-a466-4ae0-b770-8c74e1cd1f78",
   "metadata": {},
   "outputs": [
    {
     "name": "stdout",
     "output_type": "stream",
     "text": [
      "[5 4 3 2 1]\n"
     ]
    }
   ],
   "source": [
    "# 2. Using np.flip()\n",
    "#np.flip() reverses the array along any specified axis.\n",
    "\n",
    "# 1D Array Example:\n",
    "a = np.array([1, 2, 3, 4, 5])\n",
    "reversed_a = np.flip(a)\n",
    "print(reversed_a)\n"
   ]
  },
  {
   "cell_type": "code",
   "execution_count": 14,
   "id": "d678ef08-c38e-4cc9-8bdf-524c74d104f5",
   "metadata": {},
   "outputs": [
    {
     "name": "stdout",
     "output_type": "stream",
     "text": [
      "[[7 8 9]\n",
      " [4 5 6]\n",
      " [1 2 3]]\n"
     ]
    }
   ],
   "source": [
    "# 2D example ( reverse row)\n",
    "a = np.array([[1, 2, 3], [4, 5, 6], [7, 8, 9]])\n",
    "reversed_rows = np.flip(a, axis=0)\n",
    "print(reversed_rows)\n",
    "\n"
   ]
  },
  {
   "cell_type": "code",
   "execution_count": 16,
   "id": "17c9b66d-a516-4663-b5c9-a9e182f83c50",
   "metadata": {},
   "outputs": [
    {
     "name": "stdout",
     "output_type": "stream",
     "text": [
      "[[7 8 9]\n",
      " [4 5 6]\n",
      " [1 2 3]]\n"
     ]
    }
   ],
   "source": [
    "# 3. Using np.flipud() and np.fliplr()\n",
    "# np.flipud(): Flips an array vertically (upside down) along the first axis (rows).\n",
    "# np.fliplr(): Flips an array horizontally (left to right) along the second axis (columns).\n",
    "\n",
    "# 2D Array Example (Flip Vertically):\n",
    "a = np.array([[1, 2, 3], [4, 5, 6], [7, 8, 9]])\n",
    "flipped_ud = np.flipud(a)\n",
    "print(flipped_ud)\n",
    "\n"
   ]
  },
  {
   "cell_type": "code",
   "execution_count": 21,
   "id": "0e69a105-b0cf-4de8-be8b-f947d246e0c9",
   "metadata": {},
   "outputs": [
    {
     "name": "stdout",
     "output_type": "stream",
     "text": [
      "int32\n"
     ]
    }
   ],
   "source": [
    "# Q4. How can you determine the data type of elements in a NumPy array? Discuss the importance of data types in memory management and performance.\n",
    "\n",
    "#we can determine the data type of elements in a NumPy array using the .dtype attribute.\n",
    "# Example:\n",
    "import numpy as np\n",
    "a = np.array([1, 2, 3])\n",
    "print(a.dtype)  \n"
   ]
  },
  {
   "cell_type": "code",
   "execution_count": null,
   "id": "ba92d14e-8cde-41a6-a117-dcb0d19cd65e",
   "metadata": {},
   "outputs": [],
   "source": [
    "# Importance of Data Types in Memory Management and Performance:\n",
    "#1.Memory Efficiency: NumPy arrays use fixed-size data types (like int32, float64), which allows for compact storage and more efficient use of memory. Smaller data types (e.g., int8 vs. int64) consume less memory, which is important for large datasets.\n",
    "#2.Performance: Operations on arrays with smaller data types can be faster, as they require less memory access and computation. Choosing the appropriate data type ensures that the code runs efficiently, especially in performance-critical applications.\n",
    "#3.Precision Control: For numerical computations, selecting the right data type ensures that calculations have sufficient precision (e.g., float32 vs. float64 for decimal numbers) without wasting memory.\n",
    "#4.Compatibility: Using correct data types helps in avoiding errors when interfacing with other libraries, which may expect specific types for performance or precision reasons."
   ]
  },
  {
   "cell_type": "code",
   "execution_count": 24,
   "id": "05e2150b-c136-4a2a-a466-4994af21205f",
   "metadata": {},
   "outputs": [
    {
     "name": "stdout",
     "output_type": "stream",
     "text": [
      "[3 4 5 6]\n",
      "[3, 4, 5, 6]\n"
     ]
    }
   ],
   "source": [
    "# Q5. Define ndarrays in NumPy and explain their key features. How do they differ from standard Python lists?\n",
    "\n",
    "# In NumPy, an ndarray (short for N-dimensional array) is a fundamental data structure that represents a multi-dimensional,\n",
    "# homogeneous array of fixed-size items. It is the backbone of most numerical and data manipulation tasks in NumPy.\n",
    "\n",
    "#Key Features of ndarrays:\n",
    "#1.Multi-dimensional: Unlike Python lists, which are inherently 1D, ndarrays can be multi-dimensional (1D, 2D, 3D, or more). This makes them ideal for representing matrices, tensors, and other higher-dimensional data.\n",
    "#2.Homogeneous Data: All elements in an ndarray are of the same data type (e.g., int32, float64), which optimizes memory usage and computational speed.\n",
    "#3.Efficient Memory Layout: Ndarrays store elements in contiguous blocks of memory, allowing for efficient access and operations, unlike Python lists, which are arrays of pointers to objects.\n",
    "#4.Broadcasting: Ndarrays support broadcasting, allowing operations on arrays of different shapes without needing to manually reshape them.\n",
    "#5.Vectorized Operations: Arithmetic and mathematical operations can be performed element-wise on entire arrays without using loops, leading to faster execution.\n",
    "#6.Shape and Size: Ndarrays have built-in attributes like .shape (the dimensions of the array) and .size (total number of elements), making it easy to manage and manipulate data.\n",
    "#7.Slicing and Indexing: You can access and modify specific elements, rows, columns, or sub-arrays using slicing and advanced indexing techniques.\n",
    "\n",
    "#NumPy arrays (ndarrays) and Python lists have several key differences:\n",
    "#1.Data Type: NumPy arrays are homogeneous, meaning all elements must be of the same data type (e.g., all integers or floats). In contrast, Python lists can hold elements of different types (e.g., a mix of integers, strings, and floats).\n",
    "#2.Memory Usage: NumPy arrays are more memory-efficient because they store data in contiguous blocks of memory. Python lists are less efficient because they store pointers to objects, which adds overhead.\n",
    "#3.Speed: NumPy arrays are faster for numerical operations due to their efficient memory usage and support for vectorized operations. Python lists are slower, especially for large datasets, since numerical tasks require looping through elements manually.\n",
    "#4.Dimensionality: NumPy arrays can be multi-dimensional (1D, 2D, 3D, etc.), making them ideal for working with matrices and higher-dimensional data. Python lists are typically 1D, and multi-dimensional lists require nesting, which is less efficient.\n",
    "#5.Mathematical Operations: With NumPy arrays, you can perform element-wise mathematical operations directly (e.g., adding arrays). With Python lists, you need to use loops or list comprehensions to perform similar operations.\n",
    "#6.Flexibility: Python lists are more flexible as they can store mixed data types and easily change size. NumPy arrays, on the other hand, are less flexible because they are fixed in size and require all elements to be of the same type.\n",
    "# Example :\n",
    "import numpy as np\n",
    "# ndarray\n",
    "arr = np.array([1, 2, 3, 4])\n",
    "print(arr + 2) \n",
    "\n",
    "# Python list\n",
    "lst = [1, 2, 3, 4]\n",
    "print([x + 2 for x in lst])\n",
    "\n"
   ]
  },
  {
   "cell_type": "code",
   "execution_count": null,
   "id": "49411b9e-278f-4fbd-a45f-b94a803b33b6",
   "metadata": {},
   "outputs": [],
   "source": [
    "# Q6. Analyze the performance benefits of NumPy arrays over Python lists for large-scale numerical operations.\n",
    "\n",
    "#NumPy arrays provide significant performance advantages over Python lists for large-scale numerical operations due to several key factors:\n",
    "#1.Memory Efficiency: NumPy arrays use contiguous blocks of memory to store elements of the same type, which reduces memory overhead and fragmentation. In contrast, Python lists are made up of pointers to objects, which consume more memory.\n",
    "#2.Vectorization: NumPy allows for vectorized operations, enabling you to perform calculations on entire arrays without explicit loops. This results in faster execution because the operations are executed in optimized C/Fortran code, bypassing the overhead of Python’s interpreter.\n",
    "#3.Optimized Mathematical Functions: NumPy includes a wide range of built-in functions for mathematical and statistical operations (e.g., np.sum(), np.mean()), which are implemented in a highly efficient manner. Python lists require manual looping or external libraries to perform similar tasks, which are generally slower.\n",
    "#4.Broadcasting: NumPy supports broadcasting, allowing operations on arrays of different shapes without the need for manual reshaping. This feature optimizes performance by minimizing the creation of temporary arrays.\n",
    "#5.Cache Efficiency: Because NumPy arrays store elements in contiguous memory, they make better use of CPU caches, leading to faster access times during computations. Python lists do not have this advantage, making them less efficient for large data sets.\n",
    "#6.Parallelization: NumPy can leverage parallel processing and hardware-level optimizations, such as SIMD (Single Instruction, Multiple Data), to speed up computations on large arrays. Python lists do not have these optimizations.\n",
    "\n"
   ]
  },
  {
   "cell_type": "code",
   "execution_count": 26,
   "id": "f7bc228c-e04f-4a40-aa23-58a2a0693416",
   "metadata": {},
   "outputs": [
    {
     "name": "stdout",
     "output_type": "stream",
     "text": [
      "Vertical Stack Result:\n",
      "[[1 2 3]\n",
      " [4 5 6]]\n"
     ]
    }
   ],
   "source": [
    "# Q7. Compare vstack() and hstack() functions in NumPy. Provide examples demonstrating their usage and output\n",
    "\n",
    "# 1. vstack()\n",
    "#Purpose: Stacks arrays in sequence vertically (row-wise).\n",
    "#Usage: Takes a sequence of arrays and stacks them as new rows.\n",
    "#Example:\n",
    "import numpy as np\n",
    "\n",
    "# Define two 1D arrays\n",
    "a = np.array([1, 2, 3])\n",
    "b = np.array([4, 5, 6])\n",
    "\n",
    "# Stack vertically\n",
    "vstack_result = np.vstack((a, b))\n",
    "print(\"Vertical Stack Result:\")\n",
    "print(vstack_result)\n"
   ]
  },
  {
   "cell_type": "code",
   "execution_count": 28,
   "id": "060572ef-d460-4d40-9522-cc40552c5ac4",
   "metadata": {},
   "outputs": [
    {
     "name": "stdout",
     "output_type": "stream",
     "text": [
      "Horizontal Stack Result:\n",
      "[1 2 3 4 5 6]\n"
     ]
    }
   ],
   "source": [
    "# 2. hstack()\n",
    "#Purpose: Stacks arrays in sequence horizontally (column-wise).\n",
    "#Usage: Takes a sequence of arrays and stacks them as new columns.\n",
    "#Example:\n",
    "import numpy as np\n",
    "\n",
    "# Define two 1D arrays\n",
    "a = np.array([1, 2, 3])\n",
    "b = np.array([4, 5, 6])\n",
    "\n",
    "# Stack horizontally\n",
    "hstack_result = np.hstack((a, b))\n",
    "print(\"Horizontal Stack Result:\")\n",
    "print(hstack_result)\n"
   ]
  },
  {
   "cell_type": "code",
   "execution_count": 42,
   "id": "82cdd751-ad33-4bf9-a362-35bb5b1edeeb",
   "metadata": {},
   "outputs": [
    {
     "name": "stdout",
     "output_type": "stream",
     "text": [
      "Original 3D Array:\n",
      "[[[1 2]\n",
      "  [3 4]]\n",
      "\n",
      " [[5 6]\n",
      "  [7 8]]]\n",
      "\n",
      "Flipped Left-Right (fliplr):\n",
      "[[[3 4]\n",
      "  [1 2]]\n",
      "\n",
      " [[7 8]\n",
      "  [5 6]]]\n",
      "\n",
      "Flipped Up-Down (flipud):\n",
      "[[[5 6]\n",
      "  [7 8]]\n",
      "\n",
      " [[1 2]\n",
      "  [3 4]]]\n"
     ]
    }
   ],
   "source": [
    "# Q8. Explain the differences between fliplr() and flipud() methods in NumPy, including their effects on various array dimensions.\n",
    "#In NumPy, the fliplr() and flipud() methods are used to flip arrays, but they operate in different directions and have different effects based on the dimensions of the array.\n",
    "# 1. fliplr()\n",
    "#Purpose: Flips an array from left to right (horizontally).\n",
    "#Effect: The columns of the array are reversed, while the rows remain unchanged.\n",
    "# 2. flipud()\n",
    "#Purpose: Flips an array from up to down (vertically).\n",
    "#Effect: The rows of the array are reversed, while the columns remain unchanged.\n",
    "\n",
    "#Effects on Various Array Dimensions\n",
    "#1D Arrays:\n",
    "#Both fliplr() and flipud() have the same effect since there is only one dimension to flip.\n",
    "#2D Arrays:\n",
    "#fliplr() reverses the columns.\n",
    "#flipud() reverses the rows.\n",
    "#3D Arrays:\n",
    "#For 3D arrays, fliplr() and flipud() operate on the last two dimensions (i.e., flipping is done layer by layer):\n",
    "#fliplr() flips each 2D slice in the 3D array along the left-right axis.\n",
    "#flipud() flips each 2D slice along the up-down axis.\n",
    "# example:\n",
    "array_3d = np.array([[[1, 2], [3, 4]],\n",
    "                     [[5, 6], [7, 8]]])\n",
    "\n",
    "print(\"Original 3D Array:\")\n",
    "print(array_3d)\n",
    "\n",
    "print(\"\\nFlipped Left-Right (fliplr):\")\n",
    "print(np.fliplr(array_3d))\n",
    "\n",
    "print(\"\\nFlipped Up-Down (flipud):\")\n",
    "print(np.flipud(array_3d))\n",
    "\n",
    "\n",
    "\n"
   ]
  },
  {
   "cell_type": "code",
   "execution_count": 44,
   "id": "747b609e-b94e-4c9a-9b7e-b92da0986563",
   "metadata": {},
   "outputs": [
    {
     "name": "stdout",
     "output_type": "stream",
     "text": [
      "Uneven Split Result:\n",
      "[array([1, 2, 3]), array([4, 5]), array([6, 7]), array([8, 9])]\n"
     ]
    }
   ],
   "source": [
    "# Q9. Discuss the functionality of the array_split() method in NumPy. How does it handle uneven splits?\n",
    "#The array_split() method in NumPy is used to split an array into multiple sub-arrays along a specified axis. \n",
    "#Unlike the split() method, which requires the splits to be of equal size, array_split() can handle uneven splits, making it more flexible.\n",
    "#Functionality of array_split()\n",
    "#Basic Usage:\n",
    "#The primary function of array_split() is to divide an input array into a specified number of equal (or nearly equal) sub-arrays.\n",
    "#If the array cannot be divided evenly, it distributes the elements as evenly as possible across the sub-arrays. \n",
    "#Parameters:\n",
    "#ary: The input array you want to split.\n",
    "#indices_or_sections: This can be an integer (the number of sub-arrays) or a 1D array of indices at which to split the array.\n",
    "#axis: The axis along which to split the array. The default is 0 (along the first axis).\n",
    "#Return Value:\n",
    "#It returns a list of sub-arrays.\n",
    "#Handling Uneven Splits\n",
    "#When you specify an integer for indices_or_sections and the array cannot be evenly divided, array_split() will create sub-arrays with sizes that differ by at most one element. Here’s how it works:\n",
    "\n",
    "#If you have an array of size n and want to split it into 𝑘 sub-arrays, the sizes of the resulting sub-arrays will be distributed as evenly as possible.\n",
    "#For example, if 𝑛 =10 and 𝑘=3, the resulting sub-arrays might have sizes 4, 3, and 3.\n",
    "array = np.array([1, 2, 3, 4, 5, 6, 7, 8, 9])\n",
    "result_uneven = np.array_split(array, 4)\n",
    "print(\"Uneven Split Result:\")\n",
    "print(result_uneven)\n"
   ]
  },
  {
   "cell_type": "code",
   "execution_count": 46,
   "id": "07ff347b-7647-4432-9dad-6707f7d12702",
   "metadata": {},
   "outputs": [
    {
     "name": "stdout",
     "output_type": "stream",
     "text": [
      "[11 12 13 14 15]\n"
     ]
    }
   ],
   "source": [
    "# Q10. Explain the concepts of vectorization and broadcasting in NumPy. How do they contribute to efficient array operations?\n",
    "#1. Vectorization\n",
    "#Definition: Vectorization refers to the process of replacing explicit loops in numerical computations with array operations. Instead of iterating over each element in an array and performing calculations using Python loops, vectorized operations enable you to apply functions to entire arrays at once.\n",
    "#Benefits:\n",
    "#Performance: Vectorized operations are implemented in low-level languages (like C) and are optimized for performance. They execute much faster than Python loops due to reduced overhead.\n",
    "#Readability: Code using vectorized operations is often more concise and easier to read, as it eliminates the need for explicit iteration.\n",
    "# example :\n",
    "import numpy as np\n",
    "a = np.array([1, 2, 3, 4, 5])\n",
    "\n",
    "# Vectorized operation (adding 10 to each element)\n",
    "result = a + 10\n",
    "print(result)  \n"
   ]
  },
  {
   "cell_type": "code",
   "execution_count": 48,
   "id": "4f21dde6-656b-48f3-8949-cb7b882ecfc9",
   "metadata": {},
   "outputs": [
    {
     "name": "stdout",
     "output_type": "stream",
     "text": [
      "[[11 22 33]\n",
      " [14 25 36]]\n"
     ]
    }
   ],
   "source": [
    "#2. Broadcasting\n",
    "#Definition: Broadcasting is a powerful mechanism that allows NumPy to perform arithmetic operations on arrays of different shapes without explicitly reshaping them.\n",
    "#When operating on arrays of different dimensions, NumPy automatically expands the smaller array to match the shape of the larger array.\n",
    "#mechanism :\n",
    "#NumPy compares the shapes of the two arrays involved in the operation from the trailing dimensions (rightmost).\n",
    "#If the dimensions are equal or one of them is 1, NumPy can “broadcast” the smaller array to match the larger array's shape.\n",
    "#This process enables operations on arrays that are not explicitly the same size, making it highly efficient.\n",
    "# example:\n",
    "import numpy as np\n",
    "\n",
    "# Define a 2D array\n",
    "a = np.array([[1, 2, 3],\n",
    "              [4, 5, 6]])\n",
    "\n",
    "# Define a 1D array\n",
    "b = np.array([10, 20, 30])\n",
    "\n",
    "# Broadcasting: b is automatically expanded to match a's shape\n",
    "result = a + b\n",
    "print(result)\n"
   ]
  },
  {
   "cell_type": "code",
   "execution_count": null,
   "id": "a86f1ead-325e-4121-b84e-63660ac11172",
   "metadata": {},
   "outputs": [],
   "source": [
    "#Contributions to Efficient Array Operations:\n",
    "#1.Performance: Both vectorization and broadcasting minimize the need for Python-level loops and overhead, allowing operations to be executed in optimized, compiled code. This leads to substantial performance improvements, especially for large datasets.\n",
    "#2.Memory Efficiency: Broadcasting avoids the need to create additional copies of data in memory, as it operates on the original arrays with minimal memory overhead. This is particularly useful when working with large arrays.\n",
    "#3.Concise Code: Vectorized operations and broadcasting enable developers to write cleaner and more maintainable code. Instead of writing complex loops for element-wise operations, you can leverage these features to express operations in a more straightforward manner.\n",
    "#4.Scalability: These concepts make it easier to scale computations on larger arrays, as they are designed to handle varying shapes and sizes without losing efficiency.\n"
   ]
  },
  {
   "cell_type": "code",
   "execution_count": null,
   "id": "bc70da48-4c92-43b7-82e0-d000934e5da9",
   "metadata": {},
   "outputs": [],
   "source": [
    "# PRACTICAL QUESTIONS "
   ]
  },
  {
   "cell_type": "code",
   "execution_count": 50,
   "id": "e81c4233-8e74-4b35-a81d-0f15f168dca8",
   "metadata": {},
   "outputs": [
    {
     "name": "stdout",
     "output_type": "stream",
     "text": [
      "Original Array:\n",
      "[[94 34 16]\n",
      " [15 33 89]\n",
      " [96 93 16]]\n",
      "\n",
      "Transposed Array (Interchanged Rows and Columns):\n",
      "[[94 15 96]\n",
      " [34 33 93]\n",
      " [16 89 16]]\n"
     ]
    }
   ],
   "source": [
    "# Q1. Create a 3x3 NumPy array with random integers between 1 and 100. Then, interchange its rows and columns.\n",
    "import numpy as np\n",
    "\n",
    "# Create a 3x3 NumPy array with random integers between 1 and 100\n",
    "array_3x3 = np.random.randint(1, 101, size=(3, 3))\n",
    "\n",
    "# Print the original array\n",
    "print(\"Original Array:\")\n",
    "print(array_3x3)\n",
    "\n",
    "# Interchange rows and columns (transpose the array)\n",
    "transposed_array = np.transpose(array_3x3)\n",
    "\n",
    "# Print the transposed array\n",
    "print(\"\\nTransposed Array (Interchanged Rows and Columns):\")\n",
    "print(transposed_array)\n"
   ]
  },
  {
   "cell_type": "code",
   "execution_count": 52,
   "id": "f42e1434-1837-48cf-9fd5-4382a36fd51e",
   "metadata": {},
   "outputs": [
    {
     "name": "stdout",
     "output_type": "stream",
     "text": [
      "Original 1D Array:\n",
      "[0 1 2 3 4 5 6 7 8 9]\n",
      "\n",
      "Reshaped to 2x5 Array:\n",
      "[[0 1 2 3 4]\n",
      " [5 6 7 8 9]]\n",
      "\n",
      "Reshaped to 5x2 Array:\n",
      "[[0 1]\n",
      " [2 3]\n",
      " [4 5]\n",
      " [6 7]\n",
      " [8 9]]\n"
     ]
    }
   ],
   "source": [
    "# Q2. Generate a 1D NumPy array with 10 elements. Reshape it into a 2x5 array, then into a 5x2 array\n",
    "import numpy as np\n",
    "\n",
    "# Generate a 1D NumPy array with 10 elements\n",
    "array_1d = np.arange(10)  # Creates an array with elements from 0 to 9\n",
    "\n",
    "# Reshape it into a 2x5 array\n",
    "array_2x5 = array_1d.reshape(2, 5)\n",
    "\n",
    "# Reshape it into a 5x2 array\n",
    "array_5x2 = array_1d.reshape(5, 2)\n",
    "print(\"Original 1D Array:\")\n",
    "print(array_1d)\n",
    "\n",
    "print(\"\\nReshaped to 2x5 Array:\")\n",
    "print(array_2x5)\n",
    "\n",
    "print(\"\\nReshaped to 5x2 Array:\")\n",
    "print(array_5x2)\n"
   ]
  },
  {
   "cell_type": "code",
   "execution_count": 56,
   "id": "547f2445-79ef-4587-a702-5724b1e29364",
   "metadata": {},
   "outputs": [
    {
     "name": "stdout",
     "output_type": "stream",
     "text": [
      "Original 4x4 Array with Random Float Values:\n",
      "[[0.83544088 0.22351842 0.25401056 0.90703651]\n",
      " [0.901054   0.51747187 0.8727801  0.06904776]\n",
      " [0.15759429 0.00324056 0.26709855 0.93584715]\n",
      " [0.87701961 0.77265673 0.41315718 0.48587385]]\n",
      "\n",
      "6x6 Array with a Border of Zeros:\n",
      "[[0.         0.         0.         0.         0.         0.        ]\n",
      " [0.         0.83544088 0.22351842 0.25401056 0.90703651 0.        ]\n",
      " [0.         0.901054   0.51747187 0.8727801  0.06904776 0.        ]\n",
      " [0.         0.15759429 0.00324056 0.26709855 0.93584715 0.        ]\n",
      " [0.         0.87701961 0.77265673 0.41315718 0.48587385 0.        ]\n",
      " [0.         0.         0.         0.         0.         0.        ]]\n"
     ]
    }
   ],
   "source": [
    "# Q3. Create a 4x4 NumPy array with random float values. Add a border of zeros around it, resulting in a 6x6 array\n",
    "import numpy as np\n",
    "\n",
    "# Create a 4x4 NumPy array with random float values\n",
    "array_4x4 = np.random.rand(4, 4)\n",
    "\n",
    "# Add a border of zeros around it, resulting in a 6x6 array\n",
    "array_with_border = np.pad(array_4x4, pad_width=1, mode='constant', constant_values=0)\n",
    "\n",
    "# Print the original and padded arrays\n",
    "print(\"Original 4x4 Array with Random Float Values:\")\n",
    "print(array_4x4)\n",
    "\n",
    "print(\"\\n6x6 Array with a Border of Zeros:\")\n",
    "print(array_with_border)\n"
   ]
  },
  {
   "cell_type": "code",
   "execution_count": 58,
   "id": "3026db65-ce0b-45d1-a364-d15b8a4fd160",
   "metadata": {},
   "outputs": [
    {
     "name": "stdout",
     "output_type": "stream",
     "text": [
      "[10 15 20 25 30 35 40 45 50 55 60]\n"
     ]
    }
   ],
   "source": [
    "# Q4. Using NumPy, create an array of integers from 10 to 60 with a step of 5.\n",
    "import numpy as np\n",
    "\n",
    "# Create an array of integers from 10 to 60 with a step of 5\n",
    "array_integers = np.arange(10, 61, 5)\n",
    "\n",
    "# Print the resulting array\n",
    "print(array_integers)\n"
   ]
  },
  {
   "cell_type": "code",
   "execution_count": 60,
   "id": "58f68bf5-4730-4e85-aeec-b9b1b39e2b2a",
   "metadata": {},
   "outputs": [
    {
     "name": "stdout",
     "output_type": "stream",
     "text": [
      "Uppercase: ['PYTHON' 'NUMPY' 'PANDAS']\n",
      "Lowercase: ['python' 'numpy' 'pandas']\n",
      "Title Case: ['Python' 'Numpy' 'Pandas']\n",
      "Capitalize: ['Python' 'Numpy' 'Pandas']\n"
     ]
    }
   ],
   "source": [
    "# Q5. Create a NumPy array of strings ['python', 'numpy', 'pandas']. Apply different case transformations(uppercase, lowercase, title case, etc.) to each element. \n",
    "import numpy as np\n",
    "\n",
    "# Create a NumPy array of strings\n",
    "string_array = np.array(['python', 'numpy', 'pandas'])\n",
    "\n",
    "# Apply different case transformations\n",
    "uppercase_array = np.char.upper(string_array)    \n",
    "lowercase_array = np.char.lower(string_array)    \n",
    "titlecase_array = np.char.title(string_array)     \n",
    "capitalize_array = np.char.capitalize(string_array)  \n",
    "print(\"Uppercase:\", uppercase_array)\n",
    "print(\"Lowercase:\", lowercase_array)\n",
    "print(\"Title Case:\", titlecase_array)\n",
    "print(\"Capitalize:\", capitalize_array)\n"
   ]
  },
  {
   "cell_type": "code",
   "execution_count": 62,
   "id": "8ca3d4d2-9495-4d6d-b0f0-b6de707ccd5a",
   "metadata": {},
   "outputs": [
    {
     "name": "stdout",
     "output_type": "stream",
     "text": [
      "['p y t h o n' 'n u m p y' 'p a n d a s']\n"
     ]
    }
   ],
   "source": [
    "# Q6. Generate a NumPy array of words. Insert a space between each character of every word in the array.\n",
    "import numpy as np\n",
    "\n",
    "# Create a NumPy array of words\n",
    "words_array = np.array(['python', 'numpy', 'pandas'])\n",
    "\n",
    "# Insert a space between each character of every word\n",
    "spaced_array = np.char.join(' ', words_array)\n",
    "print(spaced_array)\n"
   ]
  },
  {
   "cell_type": "code",
   "execution_count": 66,
   "id": "269508e0-c863-4338-8307-fb70743a4567",
   "metadata": {},
   "outputs": [
    {
     "name": "stdout",
     "output_type": "stream",
     "text": [
      "Addition:\n",
      " [[ 8 10 12]\n",
      " [14 16 18]]\n",
      "Subtraction:\n",
      " [[-6 -6 -6]\n",
      " [-6 -6 -6]]\n",
      "Multiplication:\n",
      " [[ 7 16 27]\n",
      " [40 55 72]]\n",
      "Division:\n",
      " [[0.14285714 0.25       0.33333333]\n",
      " [0.4        0.45454545 0.5       ]]\n"
     ]
    }
   ],
   "source": [
    "# Q7. Create two 2D NumPy arrays and perform element-wise addition, subtraction, multiplication, and division.\n",
    "import numpy as np\n",
    "\n",
    "# Create two 2D NumPy arrays\n",
    "array1 = np.array([[1, 2, 3], \n",
    "                   [4, 5, 6]])\n",
    "array2 = np.array([[7, 8, 9], \n",
    "                   [10, 11, 12]])\n",
    "\n",
    "# Perform element-wise operations\n",
    "addition_result = array1 + array2          # Addition\n",
    "subtraction_result = array1 - array2       # Subtraction\n",
    "multiplication_result = array1 * array2    # Multiplication\n",
    "division_result = array1 / array2          # Division\n",
    "print(\"Addition:\\n\", addition_result)\n",
    "print(\"Subtraction:\\n\", subtraction_result)\n",
    "print(\"Multiplication:\\n\", multiplication_result)\n",
    "print(\"Division:\\n\", division_result)\n"
   ]
  },
  {
   "cell_type": "code",
   "execution_count": 68,
   "id": "05dac700-c8ab-4b72-8af6-e146dba5220b",
   "metadata": {},
   "outputs": [
    {
     "name": "stdout",
     "output_type": "stream",
     "text": [
      "Identity Matrix:\n",
      " [[1. 0. 0. 0. 0.]\n",
      " [0. 1. 0. 0. 0.]\n",
      " [0. 0. 1. 0. 0.]\n",
      " [0. 0. 0. 1. 0.]\n",
      " [0. 0. 0. 0. 1.]]\n",
      "Diagonal Elements: [1. 1. 1. 1. 1.]\n"
     ]
    }
   ],
   "source": [
    "# Q8. Use NumPy to create a 5x5 identity matrix, then extract its diagonal elements.\n",
    "import numpy as np\n",
    "\n",
    "# Create a 5x5 identity matrix\n",
    "identity_matrix = np.eye(5)\n",
    "diagonal_elements = np.diagonal(identity_matrix)\n",
    "print(\"Identity Matrix:\\n\", identity_matrix)\n",
    "print(\"Diagonal Elements:\", diagonal_elements)\n"
   ]
  },
  {
   "cell_type": "code",
   "execution_count": 70,
   "id": "abc9a7b2-6690-4439-9caf-00ac62306222",
   "metadata": {},
   "outputs": [
    {
     "name": "stdout",
     "output_type": "stream",
     "text": [
      "Random Integers: [343 286 813 380 458 949 459 165 633 122 327 326 526 229 855 220 457 195\n",
      " 386 573 865 574 681 116  93 542 265 747 841 259 188 832 212 910 896 275\n",
      " 713 434 381 212 965 593 132 918  38 535 707  92 823 784 609 590  91  47\n",
      " 121 713 509 701 839 822 448 303 986 313 820 703  60 385 325 902  87 174\n",
      " 305 864 332 950 951 247 790 888 870 543 209 394  73 879 612 786 624 610\n",
      " 174 690 685 473 421 470 887 738 420 257]\n",
      "Prime Numbers: [229, 457, 593, 823, 47, 509, 701, 839, 313, 73, 421, 887, 257]\n"
     ]
    }
   ],
   "source": [
    "# Q9. Generate a NumPy array of 100 random integers between 0 and 1000. Find and display all prime numbers in this array.\n",
    "import numpy as np\n",
    "\n",
    "# Generate a NumPy array of 100 random integers between 0 and 1000\n",
    "random_integers = np.random.randint(0, 1000, size=100)\n",
    "\n",
    "# Function to check if a number is prime\n",
    "def is_prime(n):\n",
    "    if n <= 1:\n",
    "        return False\n",
    "    for i in range(2, int(n**0.5) + 1):\n",
    "        if n % i == 0:\n",
    "            return False\n",
    "    return True\n",
    "prime_numbers = [num for num in random_integers if is_prime(num)]\n",
    "print(\"Random Integers:\", random_integers)\n",
    "print(\"Prime Numbers:\", prime_numbers)\n"
   ]
  },
  {
   "cell_type": "code",
   "execution_count": 78,
   "id": "de93b7ef-bcb9-421e-8ba9-a68670ba5df8",
   "metadata": {},
   "outputs": [
    {
     "ename": "ValueError",
     "evalue": "cannot reshape array of size 30 into shape (4,7)",
     "output_type": "error",
     "traceback": [
      "\u001b[1;31m---------------------------------------------------------------------------\u001b[0m",
      "\u001b[1;31mValueError\u001b[0m                                Traceback (most recent call last)",
      "Cell \u001b[1;32mIn[78], line 9\u001b[0m\n\u001b[0;32m      6\u001b[0m daily_temperatures \u001b[38;5;241m=\u001b[39m np\u001b[38;5;241m.\u001b[39mrandom\u001b[38;5;241m.\u001b[39mrandint(\u001b[38;5;241m15\u001b[39m, \u001b[38;5;241m31\u001b[39m, size\u001b[38;5;241m=\u001b[39m\u001b[38;5;241m30\u001b[39m)\n\u001b[0;32m      8\u001b[0m \u001b[38;5;66;03m# Reshape the array into weeks (4 weeks, with 2 days in the last week)\u001b[39;00m\n\u001b[1;32m----> 9\u001b[0m weekly_temperatures \u001b[38;5;241m=\u001b[39m \u001b[43mdaily_temperatures\u001b[49m\u001b[38;5;241;43m.\u001b[39;49m\u001b[43mreshape\u001b[49m\u001b[43m(\u001b[49m\u001b[38;5;241;43m4\u001b[39;49m\u001b[43m,\u001b[49m\u001b[43m \u001b[49m\u001b[38;5;241;43m7\u001b[39;49m\u001b[43m)\u001b[49m\n\u001b[0;32m     11\u001b[0m \u001b[38;5;66;03m# Calculate weekly averages\u001b[39;00m\n\u001b[0;32m     12\u001b[0m weekly_averages \u001b[38;5;241m=\u001b[39m np\u001b[38;5;241m.\u001b[39mmean(weekly_temperatures, axis\u001b[38;5;241m=\u001b[39m\u001b[38;5;241m1\u001b[39m)\n",
      "\u001b[1;31mValueError\u001b[0m: cannot reshape array of size 30 into shape (4,7)"
     ]
    }
   ],
   "source": [
    "# Q10. Create a NumPy array representing daily temperatures for a month. Calculate and display the weekly averages.\n",
    "import numpy as np\n",
    "\n",
    "# Create a NumPy array representing daily temperatures for a month (30 days)\n",
    "# For example, generating random temperatures between 15 and 30 degrees Celsius\n",
    "daily_temperatures = np.random.randint(15, 31, size=30)\n",
    "\n",
    "# Reshape the array into weeks (4 weeks, with 2 days in the last week)\n",
    "weekly_temperatures = daily_temperatures.reshape(4, 7)\n",
    "\n",
    "# Calculate weekly averages\n",
    "weekly_averages = np.mean(weekly_temperatures, axis=1)\n",
    "\n",
    "# Display the results\n",
    "print(\"Daily Temperatures for the Month:\", daily_temperatures)\n",
    "print(\"Weekly Averages:\", weekly_averages)\n",
    "\n",
    "\n"
   ]
  },
  {
   "cell_type": "code",
   "execution_count": null,
   "id": "f07155c9-321a-4358-8cc6-dedd72dc2c7b",
   "metadata": {},
   "outputs": [],
   "source": []
  }
 ],
 "metadata": {
  "kernelspec": {
   "display_name": "Python 3 (ipykernel)",
   "language": "python",
   "name": "python3"
  },
  "language_info": {
   "codemirror_mode": {
    "name": "ipython",
    "version": 3
   },
   "file_extension": ".py",
   "mimetype": "text/x-python",
   "name": "python",
   "nbconvert_exporter": "python",
   "pygments_lexer": "ipython3",
   "version": "3.12.4"
  }
 },
 "nbformat": 4,
 "nbformat_minor": 5
}
